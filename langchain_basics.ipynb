{
 "cells": [
  {
   "cell_type": "markdown",
   "id": "aa47ae18-1e4f-43a4-9de3-0f34f113f149",
   "metadata": {},
   "source": [
    "# Langchain basics\n",
    "\n",
    "Using Ollama and Llama3.2 (3b) to run a model locally."
   ]
  },
  {
   "cell_type": "markdown",
   "id": "d2d81cdf-a73d-443e-afb8-ec2b9f1a3937",
   "metadata": {},
   "source": [
    "## Chat based models\n",
    "\n",
    "LLMs running in a chat context, like ChatGPT. Based on message-based input and outputs, for answering human questions and prompts."
   ]
  },
  {
   "cell_type": "code",
   "execution_count": 1,
   "id": "3dea2f0b-78e4-405a-867a-891ea58d6581",
   "metadata": {},
   "outputs": [
    {
     "name": "stdout",
     "output_type": "stream",
     "text": [
      "The capital of Canada is Ottawa.\n"
     ]
    }
   ],
   "source": [
    "from langchain_ollama import ChatOllama\n",
    "\n",
    "chat = ChatOllama(model=\"llama3.2\")\n",
    "\n",
    "messages = [\n",
    "    (\"system\", \"You are a helpful AI assistant.\"),\n",
    "    (\"human\", \"What the capital of Canada?\"),\n",
    "]\n",
    "\n",
    "response = chat.invoke(messages)\n",
    "print(response.content)"
   ]
  },
  {
   "cell_type": "markdown",
   "id": "fa884861-5d9d-4c76-80e7-6e56314dbcd2",
   "metadata": {},
   "source": [
    "## Embedding models\n",
    "\n",
    "Transform text into vector representations. Every embedding has the same dimensionality, regardless of input length."
   ]
  },
  {
   "cell_type": "code",
   "execution_count": 3,
   "id": "03d5b19f-75ab-476d-9abb-a5de5a434165",
   "metadata": {},
   "outputs": [
    {
     "name": "stdout",
     "output_type": "stream",
     "text": [
      "Number of documents embedded: 5\n",
      "Dimension of each embedding: 3072\n"
     ]
    }
   ],
   "source": [
    "from langchain_ollama import OllamaEmbeddings\n",
    "\n",
    "model = OllamaEmbeddings(\n",
    "    model=\"llama3.2\"\n",
    ")\n",
    "\n",
    "embeddings = model.embed_documents(\n",
    "    [\"Hello world\", \"Hello there!\", \"What's your name?\", \"My name Jeff\", \"Hi Jeff!\"]\n",
    ")\n",
    "\n",
    "print(\"Number of documents embedded:\", len(embeddings))\n",
    "print(\"Dimension of each embedding:\", len(embeddings[0]))"
   ]
  },
  {
   "cell_type": "code",
   "execution_count": null,
   "id": "751a23c1-3499-4b3b-8a79-5fbaafd40ab6",
   "metadata": {},
   "outputs": [],
   "source": []
  }
 ],
 "metadata": {
  "kernelspec": {
   "display_name": "Python 3 (ipykernel)",
   "language": "python",
   "name": "python3"
  },
  "language_info": {
   "codemirror_mode": {
    "name": "ipython",
    "version": 3
   },
   "file_extension": ".py",
   "mimetype": "text/x-python",
   "name": "python",
   "nbconvert_exporter": "python",
   "pygments_lexer": "ipython3",
   "version": "3.11.2"
  }
 },
 "nbformat": 4,
 "nbformat_minor": 5
}
