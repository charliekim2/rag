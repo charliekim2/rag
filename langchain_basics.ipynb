{
 "cells": [
  {
   "cell_type": "markdown",
   "id": "aa47ae18-1e4f-43a4-9de3-0f34f113f149",
   "metadata": {},
   "source": [
    "# Langchain basics\n",
    "\n",
    "Using Ollama and Llama3.2 (3b) to run a model locally."
   ]
  },
  {
   "cell_type": "markdown",
   "id": "d2d81cdf-a73d-443e-afb8-ec2b9f1a3937",
   "metadata": {},
   "source": [
    "## Chat based models\n",
    "\n",
    "LLMs running in a chat context, like ChatGPT. Based on message-based input and outputs, for answering human questions and prompts."
   ]
  },
  {
   "cell_type": "code",
   "execution_count": 2,
   "id": "9f8064fb-ffde-4ab4-8c78-3c35dccd7e9c",
   "metadata": {},
   "outputs": [
    {
     "name": "stdout",
     "output_type": "stream",
     "text": [
      "The capital of Canada is Ottawa.\n"
     ]
    }
   ],
   "source": [
    "from langchain_ollama import ChatOllama\n",
    "\n",
    "chat = ChatOllama(model=\"llama3.2\")\n",
    "\n",
    "messages = [\n",
    "    (\"system\", \"You are a helpful AI assistant.\"),\n",
    "    (\"human\", \"What the capital of Canada?\"),\n",
    "]\n",
    "\n",
    "response = chat.invoke(messages)\n",
    "print(response.content)"
   ]
  },
  {
   "cell_type": "markdown",
   "id": "fa884861-5d9d-4c76-80e7-6e56314dbcd2",
   "metadata": {},
   "source": [
    "## Embedding models\n",
    "\n",
    "Transform text into vector representations. Every embedding has the same dimensionality, regardless of input length."
   ]
  },
  {
   "cell_type": "code",
   "execution_count": 1,
   "id": "03d5b19f-75ab-476d-9abb-a5de5a434165",
   "metadata": {},
   "outputs": [
    {
     "name": "stdout",
     "output_type": "stream",
     "text": [
      "Number of documents embedded: 5\n",
      "Dimension of each embedding: 3072\n"
     ]
    }
   ],
   "source": [
    "from langchain_ollama import OllamaEmbeddings\n",
    "\n",
    "model = OllamaEmbeddings(\n",
    "    model=\"llama3.2\"\n",
    ")\n",
    "\n",
    "embeddings = model.embed_documents(\n",
    "    [\"Hello world\", \"Hello there!\", \"What's your name?\", \"My name Jeff\", \"Hi Jeff!\"]\n",
    ")\n",
    "\n",
    "print(\"Number of documents embedded:\", len(embeddings))\n",
    "print(\"Dimension of each embedding:\", len(embeddings[0]))"
   ]
  },
  {
   "cell_type": "markdown",
   "id": "27aa4896-2631-4af3-8fc2-1a36ccc9877d",
   "metadata": {},
   "source": [
    "## Vector stores\n",
    "\n",
    "Traditional DBs are not optimized for high dimensionality data like embeddings. Vector stores are faster and more accurate at storing an retrieving LLM embeddings."
   ]
  },
  {
   "cell_type": "markdown",
   "id": "b949960a-f2fb-490b-b1b8-93a8662ea4bd",
   "metadata": {},
   "source": [
    "### Retrievers\n",
    "\n",
    "Interfaces than return documents that match a query. Uses metrics like cosine similarity to compare angle between vectors, which relates to semantic similarity.\n",
    "- Look up smaller chunks of a document to find related content easier, and then search the whole document for additional context.\n",
    "- Transform natural queries into logical queries ( ie \"What were the revenues in 2021\" -> datetime = 2021 ) to quickly filter documents"
   ]
  },
  {
   "cell_type": "markdown",
   "id": "0a83a630-6915-4be0-b5db-6046561611a1",
   "metadata": {},
   "source": [
    "## Chains\n",
    "\n",
    "Link together components to perform more complex tasks. For example, populating a prompt template and then feeding it to an LLM."
   ]
  },
  {
   "cell_type": "markdown",
   "id": "ccd234de-c9b9-459b-baba-5787960729e3",
   "metadata": {},
   "source": [
    "### LLM Chain\n",
    "\n",
    "Transform user input into a prompt via a template. The LLM output is formatted via a parser."
   ]
  },
  {
   "cell_type": "code",
   "execution_count": 11,
   "id": "3b462795-5e7d-498d-afb1-3bd0791dac3c",
   "metadata": {},
   "outputs": [
    {
     "data": {
      "text/plain": [
       "'Here are the colors of the rainbow, in order:\\n\\n1. Red\\n2. Orange\\n3. Yellow\\n4. Green\\n5. Blue\\n6. Indigo\\n7. Violet'"
      ]
     },
     "execution_count": 11,
     "metadata": {},
     "output_type": "execute_result"
    }
   ],
   "source": [
    "from langchain_ollama import ChatOllama\n",
    "from langchain_core.prompts import PromptTemplate\n",
    "from langchain_core.output_parsers import StrOutputParser\n",
    "\n",
    "template = \"List all the colors of the rainbow\"\n",
    "prompt = PromptTemplate(template=template, input_variables=[])\n",
    "\n",
    "chat = ChatOllama(model=\"llama3.2\")\n",
    "chain = prompt | chat | StrOutputParser()\n",
    "\n",
    "chain.invoke({})"
   ]
  },
  {
   "cell_type": "markdown",
   "id": "8621baff-7a6c-47db-9b26-9df8e9bf9e9f",
   "metadata": {},
   "source": [
    "### Sequential\n",
    "\n",
    "Chain calls to the LLM, using the outputs as subsequent inputs."
   ]
  },
  {
   "cell_type": "code",
   "execution_count": 14,
   "id": "8c3eb049-7d29-47b4-b070-76502f776d68",
   "metadata": {},
   "outputs": [
    {
     "data": {
      "text/plain": [
       "'**Review of the Black Friday Social Media Post**\\n\\nOverall, this social media post is well-structured, eye-catching, and effectively communicates the excitement around the upcoming Black Friday sale. Here\\'s a breakdown of its strengths and weaknesses:\\n\\nStrengths:\\n\\n1. **Attention-grabbing headline**: The use of \"BLACK FRIDAY ALERT!\" creates a sense of urgency and grabs the attention of potential customers.\\n2. **Clear communication**: The post clearly states the benefits of shopping during the sale (50% off everything) and provides specific details about the sale duration, code to redeem the discount, and a call-to-action to shop now.\\n3. **Visual appeal**: The use of emojis (🛍️, 👗, 🏠) adds a touch of playfulness and makes the post more engaging.\\n4. **Prominent calls-to-action**: The post includes multiple CTAs, such as \"Shop now\" and \"Use code BLACKFRIDAY50 at checkout,\" which encourages users to take action.\\n\\nWeaknesses:\\n\\n1. **Lack of exclusivity**: While the post creates a sense of urgency, it doesn\\'t provide any exclusive benefits or limited-time offers that would make customers feel like they\\'re getting an insider\\'s deal.\\n2. **Too generic**: The post uses generic language (\"upgrade your wardrobe\" or \"treat yourself\") without providing specific product recommendations or highlighting unique features of the sale items.\\n3. **Insufficient details**: While the post provides a clear understanding of the sale, it doesn\\'t offer any additional information about the products being sold (e.g., new arrivals, best-sellers, etc.) to entice customers to shop.\\n\\nRecommendations:\\n\\n1. Consider adding exclusive benefits or limited-time offers to make the sale more attractive.\\n2. Provide specific product recommendations or highlights unique features of the sale items to encourage customers to shop.\\n3. Include additional details about the products being sold, such as new arrivals or best-sellers, to entice customers to shop.\\n\\nRating: 8/10\\n\\n**Suggested improvements**:\\n\\n1. Add a sense of exclusivity by offering limited-time discounts for early birds who shop during the first hour of the sale.\\n2. Highlight specific product recommendations, such as \"New Arrivals\" or \"Best-Sellers,\" to entice customers to shop.\\n3. Include additional details about the products being sold, such as \"All items from our Best-Seller Collection\" or \"Get 20% off all home decor items.\"'"
      ]
     },
     "execution_count": 14,
     "metadata": {},
     "output_type": "execute_result"
    }
   ],
   "source": [
    "from langchain_core.prompts import PromptTemplate\n",
    "\n",
    "post_prompt = PromptTemplate.from_template(\n",
    "    \"\"\"You are a business owner. Given the theme of a post, write a social media post to share on my socials.\n",
    "\n",
    "Theme: {theme}\n",
    "Content: This is social media post based on the theme above:\"\"\"\n",
    ")\n",
    "\n",
    "review_prompt = PromptTemplate.from_template(\n",
    "    \"\"\"You are an expert social media manager. Given the presented social media post, it is your job to write a review for the post.\n",
    "\n",
    "Social Media Post:\n",
    "{post}\n",
    "Review from a Social Media Expert:\"\"\"\n",
    ")\n",
    "\n",
    "from langchain_ollama import ChatOllama\n",
    "from langchain.schema import StrOutputParser\n",
    "\n",
    "llm = ChatOllama(model=\"llama3.2\")\n",
    "\n",
    "chain = (\n",
    "    {\"post\": post_prompt | llm | StrOutputParser()}\n",
    "    | review_prompt\n",
    "    | llm\n",
    "    | StrOutputParser()\n",
    ")\n",
    "chain.invoke({\"theme\": \"Having a black friday sale with 50% off on everything.\"})"
   ]
  },
  {
   "cell_type": "markdown",
   "id": "eaa82f0e-33f7-4d56-a3eb-58f040ca9fc8",
   "metadata": {},
   "source": [
    "## Memory\n",
    "\n",
    "Used to maintain context in ongoing dialogues with LLMs. LangChain stores input and output in a structured manner so models can remember and refer to past interactions."
   ]
  },
  {
   "cell_type": "code",
   "execution_count": null,
   "id": "9851d837-4bb8-42f6-b222-4fc871a10eb9",
   "metadata": {},
   "outputs": [],
   "source": []
  }
 ],
 "metadata": {
  "kernelspec": {
   "display_name": "Python 3 (ipykernel)",
   "language": "python",
   "name": "python3"
  },
  "language_info": {
   "codemirror_mode": {
    "name": "ipython",
    "version": 3
   },
   "file_extension": ".py",
   "mimetype": "text/x-python",
   "name": "python",
   "nbconvert_exporter": "python",
   "pygments_lexer": "ipython3",
   "version": "3.11.2"
  }
 },
 "nbformat": 4,
 "nbformat_minor": 5
}
